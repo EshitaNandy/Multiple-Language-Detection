{
 "cells": [
  {
   "cell_type": "code",
   "execution_count": 15,
   "metadata": {},
   "outputs": [
    {
     "name": "stdout",
     "output_type": "stream",
     "text": [
      "\n",
      " Language Name           Language Code           Input Sentence           \n",
      " ========================================================================================================================\n",
      "Punjabi                 pa                      ਮੈਨੂੰ ਕੰਪਿ scienceਟਰ ਸਾਇੰਸ ਪਸੰਦ ਹੈ\n",
      "Bengali                 bn                      গুগল অনুবাদ একটি নিখরচায় বহুভাষিক পরিসংখ্যান এবং নিউরাল মেশিন অনুবাদ পরিষেবা\n",
      "Hindi                   hi                      अरे! क्या हो रहा है? आप क्या कर रहे हैं?\n",
      "Tamil                   ta                      இந்த மாறுபட்ட இந்தியா உண்மையில் ஒரு அற்புதமான நாடு.\n",
      "English                 en                      That's thirty minutes away. I'll be there in ten.\n",
      "French                  fr                      C'est à trente minutes. Je serai là dans dix.\n"
     ]
    }
   ],
   "source": [
    "## Importing langdetect libraries\n",
    "from langdetect import detect\n",
    "## Declare Set of languages and their language codes. So that instead of displaying language code, we can display the language name for input sentence.\n",
    "all_languages_codes={\n",
    "    \"en\":\"English\",\n",
    "    \"hi\":\"Hindi\",\n",
    "    \"bn\":\"Bengali\",\n",
    "    \"fr\":\"French\",\n",
    "    \"mr\":\"Marathi\",\n",
    "    \"pa\":\"Punjabi\",\n",
    "    \"ur\":\"Urdu\",\n",
    "    \"ta\":\"Tamil\",\n",
    "    \"gu\":\"Gujarati\"\n",
    "    \n",
    "}\n",
    "input_sentence = [\n",
    "    \"ਮੈਨੂੰ ਕੰਪਿ scienceਟਰ ਸਾਇੰਸ ਪਸੰਦ ਹੈ\",\n",
    "    \"গুগল অনুবাদ একটি নিখরচায় বহুভাষিক পরিসংখ্যান এবং নিউরাল মেশিন অনুবাদ পরিষেবা\",\n",
    "    \"अरे! क्या हो रहा है? आप क्या कर रहे हैं?\",\n",
    "    \"இந்த மாறுபட்ட இந்தியா உண்மையில் ஒரு அற்புதமான நாடு.\",\n",
    "    \"That's thirty minutes away. I'll be there in ten.\",\n",
    "    \"C'est à trente minutes. Je serai là dans dix.\"\n",
    "]\n",
    "\n",
    "## Formatting Output\n",
    "lemmatizer_names = [\"Language Code\", \"Input Sentence\"]\n",
    "format_text = '{:24}' * (len(lemmatizer_names) + 1)\n",
    "\n",
    "## Execute code snippet for detecting the language\n",
    "print ('\\n', format_text.format(\"Language Name\", *lemmatizer_names),'\\n','='*120)\n",
    "for data in input_sentence:\n",
    "    language_code = detect(data)    \n",
    "    sentence = [all_languages_codes.get(language_code), language_code, data]\n",
    "    print (format_text.format(*sentence))"
   ]
  },
  {
   "cell_type": "code",
   "execution_count": null,
   "metadata": {},
   "outputs": [],
   "source": []
  }
 ],
 "metadata": {
  "kernelspec": {
   "display_name": "Python 3",
   "language": "python",
   "name": "python3"
  },
  "language_info": {
   "codemirror_mode": {
    "name": "ipython",
    "version": 3
   },
   "file_extension": ".py",
   "mimetype": "text/x-python",
   "name": "python",
   "nbconvert_exporter": "python",
   "pygments_lexer": "ipython3",
   "version": "3.8.3"
  }
 },
 "nbformat": 4,
 "nbformat_minor": 4
}
